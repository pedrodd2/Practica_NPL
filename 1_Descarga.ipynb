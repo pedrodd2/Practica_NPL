{
  "nbformat": 4,
  "nbformat_minor": 0,
  "metadata": {
    "colab": {
      "provenance": []
    },
    "kernelspec": {
      "name": "python3",
      "display_name": "Python 3"
    },
    "language_info": {
      "name": "python"
    },
    "accelerator": "TPU"
  },
  "cells": [
    {
      "cell_type": "markdown",
      "source": [
        "# 1.DESCARGA DE DATOS Y GUARDADO EN CSV\n",
        "\n",
        "Vamos a bajarnos un dataset balanceado, para lo cual vamos a considerar que las review con 1 y 2 estrellas son negativas y las review con 4 y 5 estrellas son positivas"
      ],
      "metadata": {
        "id": "2NZ1cROqKsqU"
      }
    },
    {
      "cell_type": "code",
      "source": [
        "import os\n",
        "import json\n",
        "import gzip\n",
        "import pandas as pd\n",
        "from urllib.request import urlopen"
      ],
      "metadata": {
        "id": "t7LM4r6TLY3V"
      },
      "execution_count": null,
      "outputs": []
    },
    {
      "cell_type": "code",
      "execution_count": null,
      "metadata": {
        "colab": {
          "base_uri": "https://localhost:8080/"
        },
        "id": "vJ5HC6dPKgu-",
        "outputId": "1c811c62-7918-4e3d-c064-615268ab2e62"
      },
      "outputs": [
        {
          "output_type": "stream",
          "name": "stdout",
          "text": [
            "--2023-09-02 08:31:07--  https://datarepo.eng.ucsd.edu/mcauley_group/data/amazon_v2/categoryFiles/Software.json.gz\n",
            "Resolving datarepo.eng.ucsd.edu (datarepo.eng.ucsd.edu)... 132.239.8.30\n",
            "Connecting to datarepo.eng.ucsd.edu (datarepo.eng.ucsd.edu)|132.239.8.30|:443... connected.\n",
            "HTTP request sent, awaiting response... 200 OK\n",
            "Length: 98221392 (94M) [application/x-gzip]\n",
            "Saving to: ‘Software.json.gz’\n",
            "\n",
            "Software.json.gz    100%[===================>]  93.67M  46.6MB/s    in 2.0s    \n",
            "\n",
            "2023-09-02 08:31:09 (46.6 MB/s) - ‘Software.json.gz’ saved [98221392/98221392]\n",
            "\n"
          ]
        }
      ],
      "source": [
        "!wget https://datarepo.eng.ucsd.edu/mcauley_group/data/amazon_v2/categoryFiles/Software.json.gz"
      ]
    },
    {
      "cell_type": "code",
      "source": [
        "with gzip.open('Software.json.gz', 'rb') as f:\n",
        "  df = pd.read_json(f, lines=True)\n"
      ],
      "metadata": {
        "id": "lwMAQcPaLiYE"
      },
      "execution_count": null,
      "outputs": []
    },
    {
      "cell_type": "code",
      "source": [
        "filtered_df = df[df['overall'].isin([ 1, 2, 4, 5])]\n",
        "\n",
        "\n",
        "num_samples = 1000\n",
        "sampled_df_1 = filtered_df[filtered_df['overall'] == 1].sample(n=num_samples)\n",
        "sampled_df_2 = filtered_df[filtered_df['overall'] == 2].sample(n=num_samples)\n",
        "sampled_df_4 = filtered_df[filtered_df['overall'] == 4].sample(n=num_samples)\n",
        "sampled_df_5 = filtered_df[filtered_df['overall'] == 5].sample(n=num_samples)\n",
        "\n",
        "\n",
        "result_df = pd.concat([sampled_df_1, sampled_df_2, sampled_df_4, sampled_df_5])\n",
        "\n",
        "result_df.to_csv('Software.csv', index=False)"
      ],
      "metadata": {
        "id": "CG3mNSrIUFun"
      },
      "execution_count": null,
      "outputs": []
    },
    {
      "cell_type": "code",
      "source": [
        "#Vamos a guardar el csv en drive para poder trabajar siempre en la nube\n",
        "from google.colab import drive\n",
        "drive.mount('/content/drive')\n",
        "# Hay que crear el directirio practica_NPL en el directorio raiz de drive\n",
        "!cp Software.csv /content/drive/MyDrive/practica_NPL/\n",
        "\n",
        "!ls -lah Software*  # Comprobación"
      ],
      "metadata": {
        "colab": {
          "base_uri": "https://localhost:8080/"
        },
        "id": "WWTWNh5FAk0V",
        "outputId": "ce416642-43f0-49eb-d273-752b6b43c69c"
      },
      "execution_count": null,
      "outputs": [
        {
          "output_type": "stream",
          "name": "stdout",
          "text": [
            "Drive already mounted at /content/drive; to attempt to forcibly remount, call drive.mount(\"/content/drive\", force_remount=True).\n",
            "-rw-r--r-- 1 root root 2.3M Sep  2 08:31 Software.csv\n",
            "-rw-r--r-- 1 root root  94M Apr 28 21:27 Software.json.gz\n"
          ]
        }
      ]
    },
    {
      "cell_type": "code",
      "source": [
        "# Comprobamos a abrirlos de nuevo\n",
        "saved_data = pd.read_csv(\"/content/drive/MyDrive/practica_NPL/Software.csv\", sep=',')\n",
        "saved_data.shape"
      ],
      "metadata": {
        "colab": {
          "base_uri": "https://localhost:8080/"
        },
        "id": "qz-NN9AXCO81",
        "outputId": "ae244aed-280d-43c1-a5c5-66a497c80851"
      },
      "execution_count": null,
      "outputs": [
        {
          "output_type": "execute_result",
          "data": {
            "text/plain": [
              "(4000, 12)"
            ]
          },
          "metadata": {},
          "execution_count": 8
        }
      ]
    }
  ]
}