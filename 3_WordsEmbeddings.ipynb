{
  "nbformat": 4,
  "nbformat_minor": 0,
  "metadata": {
    "colab": {
      "provenance": []
    },
    "kernelspec": {
      "name": "python3",
      "display_name": "Python 3"
    },
    "language_info": {
      "name": "python"
    }
  },
  "cells": [
    {
      "cell_type": "markdown",
      "source": [
        "# 3. WORDS EMBEDDINGS"
      ],
      "metadata": {
        "id": "p1yR44kePF5b"
      }
    },
    {
      "cell_type": "markdown",
      "source": [
        "A continuacion vamos a calcular words embeddings con Word2Vec."
      ],
      "metadata": {
        "id": "EpEeCdpSPdus"
      }
    },
    {
      "cell_type": "markdown",
      "source": [
        "## 3.1 Imports y settings previos"
      ],
      "metadata": {
        "id": "teZIOJulP_zG"
      }
    },
    {
      "cell_type": "code",
      "execution_count": 1,
      "metadata": {
        "id": "xy4w91XAOvD6"
      },
      "outputs": [],
      "source": [
        "from gensim.models import Word2Vec\n",
        "from gensim.models.word2vec import LineSentence"
      ]
    },
    {
      "cell_type": "code",
      "source": [
        "import re  # Para Preprocesamiento\n",
        "import pandas as pd\n",
        "from time import time  # Tiempo de las operaciones\n",
        "from collections import defaultdict  # Para Frecuencias de palabras\n",
        "import multiprocessing\n",
        "import numpy as np\n",
        "from sklearn.manifold import TSNE\n",
        "from gensim.models.word2vec import LineSentence\n",
        "\n",
        "import spacy  # Para prepocesamiento\n",
        "import logging  # Configuración de loggings para monitor gensim\n",
        "logging.basicConfig(format=\"%(levelname)s - %(asctime)s: %(message)s\", datefmt= '%H:%M:%S', level=logging.INFO)\n",
        "from gensim.models.phrases import Phrases, Phraser"
      ],
      "metadata": {
        "id": "3K19nPBtQu50"
      },
      "execution_count": 2,
      "outputs": []
    },
    {
      "cell_type": "markdown",
      "source": [
        "## 3.2 Descarga del corpus"
      ],
      "metadata": {
        "id": "8EXT4zbXQ6cF"
      }
    },
    {
      "cell_type": "code",
      "source": [
        "#Nos conectamos a drive\n",
        "from google.colab import drive\n",
        "drive.mount('/content/drive')"
      ],
      "metadata": {
        "id": "M62HRJU2-oET",
        "colab": {
          "base_uri": "https://localhost:8080/"
        },
        "outputId": "e1cfa49e-2221-4612-e215-86739746972f"
      },
      "execution_count": 3,
      "outputs": [
        {
          "output_type": "stream",
          "name": "stdout",
          "text": [
            "Mounted at /content/drive\n"
          ]
        }
      ]
    },
    {
      "cell_type": "code",
      "source": [
        "df = pd.read_csv(\"/content/drive/MyDrive/practica_NPL/Software.csv\", sep=',')\n",
        "df.isnull().sum()"
      ],
      "metadata": {
        "colab": {
          "base_uri": "https://localhost:8080/"
        },
        "id": "OfsMqrj4RGNI",
        "outputId": "5eede9cb-d5af-4dc3-a557-739292803a63"
      },
      "execution_count": 4,
      "outputs": [
        {
          "output_type": "execute_result",
          "data": {
            "text/plain": [
              "overall              0\n",
              "verified             0\n",
              "reviewTime           0\n",
              "reviewerID           0\n",
              "asin                 0\n",
              "style             2031\n",
              "reviewerName         0\n",
              "reviewText           0\n",
              "summary              0\n",
              "unixReviewTime       0\n",
              "vote              2729\n",
              "image             3989\n",
              "dtype: int64"
            ]
          },
          "metadata": {},
          "execution_count": 4
        }
      ]
    },
    {
      "cell_type": "code",
      "source": [
        "df.dropna(subset=['reviewText'], inplace=True)"
      ],
      "metadata": {
        "id": "z1JHg-SiYaAp"
      },
      "execution_count": 5,
      "outputs": []
    },
    {
      "cell_type": "code",
      "source": [
        "df.isnull().sum()"
      ],
      "metadata": {
        "colab": {
          "base_uri": "https://localhost:8080/"
        },
        "id": "HF0tFBf7Yfkt",
        "outputId": "c3aa1fdd-b70e-44bf-b464-c0f8fa9ece6f"
      },
      "execution_count": 6,
      "outputs": [
        {
          "output_type": "execute_result",
          "data": {
            "text/plain": [
              "overall              0\n",
              "verified             0\n",
              "reviewTime           0\n",
              "reviewerID           0\n",
              "asin                 0\n",
              "style             2031\n",
              "reviewerName         0\n",
              "reviewText           0\n",
              "summary              0\n",
              "unixReviewTime       0\n",
              "vote              2729\n",
              "image             3989\n",
              "dtype: int64"
            ]
          },
          "metadata": {},
          "execution_count": 6
        }
      ]
    },
    {
      "cell_type": "markdown",
      "source": [
        "## 3.3 Preprocesamiento"
      ],
      "metadata": {
        "id": "euW8zeEqTbSh"
      }
    },
    {
      "cell_type": "markdown",
      "source": [
        "Pasamos a la limpieza del texto, para ello primeramente creamos la siguiente funcion que usaremos posteriormente:"
      ],
      "metadata": {
        "id": "q44L4DupUNVO"
      }
    },
    {
      "cell_type": "code",
      "source": [
        "nlp = spacy.load(\"en_core_web_sm\")\n",
        "def cleaning(doc):\n",
        "    # Lematizamos y removemos stopwords\n",
        "    # doc necesita ser a spacy Doc object\n",
        "    txt = [token.lemma_ for token in doc if not token.is_stop]\n",
        "    # Word2Vec usa las palabras de contexto para aprender a representar el vector de una palabra ,\n",
        "    # si una sentencia tiene solo una o dos palabras ,\n",
        "    # el beneficio para el training es muy pequeño\n",
        "    if len(txt) > 2:\n",
        "        return ' '.join(txt)"
      ],
      "metadata": {
        "id": "iz9wOVaEUM0D"
      },
      "execution_count": 7,
      "outputs": []
    },
    {
      "cell_type": "markdown",
      "source": [
        "Tambien preparamos otra para quitar los caracteres no alfabeticos"
      ],
      "metadata": {
        "id": "XWw-Q4qPUUzN"
      }
    },
    {
      "cell_type": "code",
      "source": [
        "brief_cleaning = (re.sub(\"[^A-Za-z']+\", ' ', str(row)).lower() for row in df['reviewText'])"
      ],
      "metadata": {
        "id": "wwYRbuCTTZAf"
      },
      "execution_count": 8,
      "outputs": []
    },
    {
      "cell_type": "markdown",
      "source": [
        "Utilizamos el atributo .pipe() de spaCy para acelerar la velocidad del proceso de limpieza"
      ],
      "metadata": {
        "id": "KkHYCGAiU3i_"
      }
    },
    {
      "cell_type": "code",
      "source": [
        "t = time()\n",
        "\n",
        "txt = [cleaning(doc) for doc in nlp.pipe(brief_cleaning, batch_size=5000)]\n",
        "\n",
        "print('Tiempo para limpiar todo: {} mins'.format(round((time() - t) / 60, 2)))"
      ],
      "metadata": {
        "colab": {
          "base_uri": "https://localhost:8080/"
        },
        "id": "gU7pdVkZU520",
        "outputId": "5a347a7b-f789-4645-c2be-cc441b5e8b76"
      },
      "execution_count": 9,
      "outputs": [
        {
          "output_type": "stream",
          "name": "stdout",
          "text": [
            "Tiempo para limpiar todo: 0.89 mins\n"
          ]
        }
      ]
    },
    {
      "cell_type": "markdown",
      "source": [
        "Organizamos el resultado en una DataFrame eliminando los valores missing y duplicados:"
      ],
      "metadata": {
        "id": "JoH4QU1XVDGC"
      }
    },
    {
      "cell_type": "code",
      "source": [
        "df_clean_Software = pd.DataFrame({'clean': txt})\n",
        "df_clean_Software = df_clean_Software.dropna().drop_duplicates()\n",
        "df_clean_Software.shape"
      ],
      "metadata": {
        "colab": {
          "base_uri": "https://localhost:8080/"
        },
        "id": "7MjH0MezVEJ7",
        "outputId": "2e2488a6-7ffd-4ed4-bc73-e0a71864a33a"
      },
      "execution_count": 10,
      "outputs": [
        {
          "output_type": "execute_result",
          "data": {
            "text/plain": [
              "(3672, 1)"
            ]
          },
          "metadata": {},
          "execution_count": 10
        }
      ]
    },
    {
      "cell_type": "markdown",
      "source": [
        "guardamos el dataset en csv para poder trabajar en otro momento sin tener que repetir el proceso"
      ],
      "metadata": {
        "id": "wdEedPG2Vd2g"
      }
    },
    {
      "cell_type": "code",
      "source": [
        "df_clean_Software.to_csv('./df_clean_Software.csv')"
      ],
      "metadata": {
        "id": "rHgB5MNVMc6j"
      },
      "execution_count": 11,
      "outputs": []
    },
    {
      "cell_type": "markdown",
      "source": [],
      "metadata": {
        "id": "u3Db8QkMXyWa"
      }
    },
    {
      "cell_type": "code",
      "source": [
        "df_clean_Software.head()"
      ],
      "metadata": {
        "colab": {
          "base_uri": "https://localhost:8080/",
          "height": 206
        },
        "id": "40S9qwEyX3YO",
        "outputId": "b199b56b-9050-4026-88b0-2d2932831312"
      },
      "execution_count": 12,
      "outputs": [
        {
          "output_type": "execute_result",
          "data": {
            "text/plain": [
              "                                               clean\n",
              "0  useless io computer ask tech savvy friend help...\n",
              "1  labor hour turbo tax return finally give disc ...\n",
              "2  buy software extremely limit font size type ma...\n",
              "3             junk wull install download frustrating\n",
              "4  quicken love software strong advocate upgrade ..."
            ],
            "text/html": [
              "\n",
              "  <div id=\"df-3642897a-008a-4558-9ba7-751126c1c6c5\" class=\"colab-df-container\">\n",
              "    <div>\n",
              "<style scoped>\n",
              "    .dataframe tbody tr th:only-of-type {\n",
              "        vertical-align: middle;\n",
              "    }\n",
              "\n",
              "    .dataframe tbody tr th {\n",
              "        vertical-align: top;\n",
              "    }\n",
              "\n",
              "    .dataframe thead th {\n",
              "        text-align: right;\n",
              "    }\n",
              "</style>\n",
              "<table border=\"1\" class=\"dataframe\">\n",
              "  <thead>\n",
              "    <tr style=\"text-align: right;\">\n",
              "      <th></th>\n",
              "      <th>clean</th>\n",
              "    </tr>\n",
              "  </thead>\n",
              "  <tbody>\n",
              "    <tr>\n",
              "      <th>0</th>\n",
              "      <td>useless io computer ask tech savvy friend help...</td>\n",
              "    </tr>\n",
              "    <tr>\n",
              "      <th>1</th>\n",
              "      <td>labor hour turbo tax return finally give disc ...</td>\n",
              "    </tr>\n",
              "    <tr>\n",
              "      <th>2</th>\n",
              "      <td>buy software extremely limit font size type ma...</td>\n",
              "    </tr>\n",
              "    <tr>\n",
              "      <th>3</th>\n",
              "      <td>junk wull install download frustrating</td>\n",
              "    </tr>\n",
              "    <tr>\n",
              "      <th>4</th>\n",
              "      <td>quicken love software strong advocate upgrade ...</td>\n",
              "    </tr>\n",
              "  </tbody>\n",
              "</table>\n",
              "</div>\n",
              "    <div class=\"colab-df-buttons\">\n",
              "\n",
              "  <div class=\"colab-df-container\">\n",
              "    <button class=\"colab-df-convert\" onclick=\"convertToInteractive('df-3642897a-008a-4558-9ba7-751126c1c6c5')\"\n",
              "            title=\"Convert this dataframe to an interactive table.\"\n",
              "            style=\"display:none;\">\n",
              "\n",
              "  <svg xmlns=\"http://www.w3.org/2000/svg\" height=\"24px\" viewBox=\"0 -960 960 960\">\n",
              "    <path d=\"M120-120v-720h720v720H120Zm60-500h600v-160H180v160Zm220 220h160v-160H400v160Zm0 220h160v-160H400v160ZM180-400h160v-160H180v160Zm440 0h160v-160H620v160ZM180-180h160v-160H180v160Zm440 0h160v-160H620v160Z\"/>\n",
              "  </svg>\n",
              "    </button>\n",
              "\n",
              "  <style>\n",
              "    .colab-df-container {\n",
              "      display:flex;\n",
              "      gap: 12px;\n",
              "    }\n",
              "\n",
              "    .colab-df-convert {\n",
              "      background-color: #E8F0FE;\n",
              "      border: none;\n",
              "      border-radius: 50%;\n",
              "      cursor: pointer;\n",
              "      display: none;\n",
              "      fill: #1967D2;\n",
              "      height: 32px;\n",
              "      padding: 0 0 0 0;\n",
              "      width: 32px;\n",
              "    }\n",
              "\n",
              "    .colab-df-convert:hover {\n",
              "      background-color: #E2EBFA;\n",
              "      box-shadow: 0px 1px 2px rgba(60, 64, 67, 0.3), 0px 1px 3px 1px rgba(60, 64, 67, 0.15);\n",
              "      fill: #174EA6;\n",
              "    }\n",
              "\n",
              "    .colab-df-buttons div {\n",
              "      margin-bottom: 4px;\n",
              "    }\n",
              "\n",
              "    [theme=dark] .colab-df-convert {\n",
              "      background-color: #3B4455;\n",
              "      fill: #D2E3FC;\n",
              "    }\n",
              "\n",
              "    [theme=dark] .colab-df-convert:hover {\n",
              "      background-color: #434B5C;\n",
              "      box-shadow: 0px 1px 3px 1px rgba(0, 0, 0, 0.15);\n",
              "      filter: drop-shadow(0px 1px 2px rgba(0, 0, 0, 0.3));\n",
              "      fill: #FFFFFF;\n",
              "    }\n",
              "  </style>\n",
              "\n",
              "    <script>\n",
              "      const buttonEl =\n",
              "        document.querySelector('#df-3642897a-008a-4558-9ba7-751126c1c6c5 button.colab-df-convert');\n",
              "      buttonEl.style.display =\n",
              "        google.colab.kernel.accessAllowed ? 'block' : 'none';\n",
              "\n",
              "      async function convertToInteractive(key) {\n",
              "        const element = document.querySelector('#df-3642897a-008a-4558-9ba7-751126c1c6c5');\n",
              "        const dataTable =\n",
              "          await google.colab.kernel.invokeFunction('convertToInteractive',\n",
              "                                                    [key], {});\n",
              "        if (!dataTable) return;\n",
              "\n",
              "        const docLinkHtml = 'Like what you see? Visit the ' +\n",
              "          '<a target=\"_blank\" href=https://colab.research.google.com/notebooks/data_table.ipynb>data table notebook</a>'\n",
              "          + ' to learn more about interactive tables.';\n",
              "        element.innerHTML = '';\n",
              "        dataTable['output_type'] = 'display_data';\n",
              "        await google.colab.output.renderOutput(dataTable, element);\n",
              "        const docLink = document.createElement('div');\n",
              "        docLink.innerHTML = docLinkHtml;\n",
              "        element.appendChild(docLink);\n",
              "      }\n",
              "    </script>\n",
              "  </div>\n",
              "\n",
              "\n",
              "<div id=\"df-86798063-71ed-44d7-be2d-06f9b361a26f\">\n",
              "  <button class=\"colab-df-quickchart\" onclick=\"quickchart('df-86798063-71ed-44d7-be2d-06f9b361a26f')\"\n",
              "            title=\"Suggest charts.\"\n",
              "            style=\"display:none;\">\n",
              "\n",
              "<svg xmlns=\"http://www.w3.org/2000/svg\" height=\"24px\"viewBox=\"0 0 24 24\"\n",
              "     width=\"24px\">\n",
              "    <g>\n",
              "        <path d=\"M19 3H5c-1.1 0-2 .9-2 2v14c0 1.1.9 2 2 2h14c1.1 0 2-.9 2-2V5c0-1.1-.9-2-2-2zM9 17H7v-7h2v7zm4 0h-2V7h2v10zm4 0h-2v-4h2v4z\"/>\n",
              "    </g>\n",
              "</svg>\n",
              "  </button>\n",
              "\n",
              "<style>\n",
              "  .colab-df-quickchart {\n",
              "      --bg-color: #E8F0FE;\n",
              "      --fill-color: #1967D2;\n",
              "      --hover-bg-color: #E2EBFA;\n",
              "      --hover-fill-color: #174EA6;\n",
              "      --disabled-fill-color: #AAA;\n",
              "      --disabled-bg-color: #DDD;\n",
              "  }\n",
              "\n",
              "  [theme=dark] .colab-df-quickchart {\n",
              "      --bg-color: #3B4455;\n",
              "      --fill-color: #D2E3FC;\n",
              "      --hover-bg-color: #434B5C;\n",
              "      --hover-fill-color: #FFFFFF;\n",
              "      --disabled-bg-color: #3B4455;\n",
              "      --disabled-fill-color: #666;\n",
              "  }\n",
              "\n",
              "  .colab-df-quickchart {\n",
              "    background-color: var(--bg-color);\n",
              "    border: none;\n",
              "    border-radius: 50%;\n",
              "    cursor: pointer;\n",
              "    display: none;\n",
              "    fill: var(--fill-color);\n",
              "    height: 32px;\n",
              "    padding: 0;\n",
              "    width: 32px;\n",
              "  }\n",
              "\n",
              "  .colab-df-quickchart:hover {\n",
              "    background-color: var(--hover-bg-color);\n",
              "    box-shadow: 0 1px 2px rgba(60, 64, 67, 0.3), 0 1px 3px 1px rgba(60, 64, 67, 0.15);\n",
              "    fill: var(--button-hover-fill-color);\n",
              "  }\n",
              "\n",
              "  .colab-df-quickchart-complete:disabled,\n",
              "  .colab-df-quickchart-complete:disabled:hover {\n",
              "    background-color: var(--disabled-bg-color);\n",
              "    fill: var(--disabled-fill-color);\n",
              "    box-shadow: none;\n",
              "  }\n",
              "\n",
              "  .colab-df-spinner {\n",
              "    border: 2px solid var(--fill-color);\n",
              "    border-color: transparent;\n",
              "    border-bottom-color: var(--fill-color);\n",
              "    animation:\n",
              "      spin 1s steps(1) infinite;\n",
              "  }\n",
              "\n",
              "  @keyframes spin {\n",
              "    0% {\n",
              "      border-color: transparent;\n",
              "      border-bottom-color: var(--fill-color);\n",
              "      border-left-color: var(--fill-color);\n",
              "    }\n",
              "    20% {\n",
              "      border-color: transparent;\n",
              "      border-left-color: var(--fill-color);\n",
              "      border-top-color: var(--fill-color);\n",
              "    }\n",
              "    30% {\n",
              "      border-color: transparent;\n",
              "      border-left-color: var(--fill-color);\n",
              "      border-top-color: var(--fill-color);\n",
              "      border-right-color: var(--fill-color);\n",
              "    }\n",
              "    40% {\n",
              "      border-color: transparent;\n",
              "      border-right-color: var(--fill-color);\n",
              "      border-top-color: var(--fill-color);\n",
              "    }\n",
              "    60% {\n",
              "      border-color: transparent;\n",
              "      border-right-color: var(--fill-color);\n",
              "    }\n",
              "    80% {\n",
              "      border-color: transparent;\n",
              "      border-right-color: var(--fill-color);\n",
              "      border-bottom-color: var(--fill-color);\n",
              "    }\n",
              "    90% {\n",
              "      border-color: transparent;\n",
              "      border-bottom-color: var(--fill-color);\n",
              "    }\n",
              "  }\n",
              "</style>\n",
              "\n",
              "  <script>\n",
              "    async function quickchart(key) {\n",
              "      const quickchartButtonEl =\n",
              "        document.querySelector('#' + key + ' button');\n",
              "      quickchartButtonEl.disabled = true;  // To prevent multiple clicks.\n",
              "      quickchartButtonEl.classList.add('colab-df-spinner');\n",
              "      try {\n",
              "        const charts = await google.colab.kernel.invokeFunction(\n",
              "            'suggestCharts', [key], {});\n",
              "      } catch (error) {\n",
              "        console.error('Error during call to suggestCharts:', error);\n",
              "      }\n",
              "      quickchartButtonEl.classList.remove('colab-df-spinner');\n",
              "      quickchartButtonEl.classList.add('colab-df-quickchart-complete');\n",
              "    }\n",
              "    (() => {\n",
              "      let quickchartButtonEl =\n",
              "        document.querySelector('#df-86798063-71ed-44d7-be2d-06f9b361a26f button');\n",
              "      quickchartButtonEl.style.display =\n",
              "        google.colab.kernel.accessAllowed ? 'block' : 'none';\n",
              "    })();\n",
              "  </script>\n",
              "</div>\n",
              "    </div>\n",
              "  </div>\n"
            ]
          },
          "metadata": {},
          "execution_count": 12
        }
      ]
    },
    {
      "cell_type": "code",
      "source": [
        "df_clean_Software.shape"
      ],
      "metadata": {
        "colab": {
          "base_uri": "https://localhost:8080/"
        },
        "id": "GhJeHxZRdXl6",
        "outputId": "a9204380-5ec9-42f9-9f97-5fdb4a7bf946"
      },
      "execution_count": 13,
      "outputs": [
        {
          "output_type": "execute_result",
          "data": {
            "text/plain": [
              "(3672, 1)"
            ]
          },
          "metadata": {},
          "execution_count": 13
        }
      ]
    },
    {
      "cell_type": "markdown",
      "source": [
        "## 3.4 Entrenamiento del modelo"
      ],
      "metadata": {
        "id": "-CVNdgi9bRux"
      }
    },
    {
      "cell_type": "markdown",
      "source": [
        "Contamos el numero de nucleos del pc que a posteriori nos resultara util:"
      ],
      "metadata": {
        "id": "WRhUwsvyby0e"
      }
    },
    {
      "cell_type": "code",
      "source": [
        "cores = multiprocessing.cpu_count() # Contamos el número de cores en el ordenador\n",
        "print (cores)"
      ],
      "metadata": {
        "colab": {
          "base_uri": "https://localhost:8080/"
        },
        "id": "ViEg0IcubfzY",
        "outputId": "8d2b587f-dda2-4199-b370-16b6749ff55c"
      },
      "execution_count": 14,
      "outputs": [
        {
          "output_type": "stream",
          "name": "stdout",
          "text": [
            "2\n"
          ]
        }
      ]
    },
    {
      "cell_type": "markdown",
      "source": [
        "Inicializamo el Word2Vec:"
      ],
      "metadata": {
        "id": "L-h-Umq6b-0N"
      }
    },
    {
      "cell_type": "code",
      "source": [
        "w2v_model = Word2Vec(min_count=20,\n",
        "                     window=2,\n",
        "                     vector_size=300,\n",
        "                     sample=6e-5,\n",
        "                     alpha=0.03,\n",
        "                     min_alpha=0.0007,\n",
        "                     negative=20,\n",
        "                     workers=cores-1)"
      ],
      "metadata": {
        "id": "qNA7adfAcij6"
      },
      "execution_count": 15,
      "outputs": []
    },
    {
      "cell_type": "markdown",
      "source": [
        "Construimos el vocabulario"
      ],
      "metadata": {
        "id": "Aq0Ez9sdc1aX"
      }
    },
    {
      "cell_type": "code",
      "source": [
        "t = time()\n",
        "sent = [row.split() for row in df_clean_Software['clean']]\n",
        "w2v_model.build_vocab(sent, progress_per=10000)\n",
        "\n",
        "print('Tiempo para construir el vocabulario: {} mins'.format(round((time() - t) / 60, 2)))\n"
      ],
      "metadata": {
        "colab": {
          "base_uri": "https://localhost:8080/"
        },
        "id": "-utHHPFodBCo",
        "outputId": "ee86fad5-031c-42f3-9df3-c57c590ed944"
      },
      "execution_count": 16,
      "outputs": [
        {
          "output_type": "stream",
          "name": "stdout",
          "text": [
            "Tiempo para construir el vocabulario: 0.0 mins\n"
          ]
        }
      ]
    },
    {
      "cell_type": "code",
      "source": [
        "print('Vocabulario compuesto por {} palabras'.format(len(w2v_model.wv.key_to_index)))"
      ],
      "metadata": {
        "colab": {
          "base_uri": "https://localhost:8080/"
        },
        "id": "HE8WVy57dOzj",
        "outputId": "949c7bc4-4724-4b34-ef10-4e9030bd526f"
      },
      "execution_count": 17,
      "outputs": [
        {
          "output_type": "stream",
          "name": "stdout",
          "text": [
            "Vocabulario compuesto por 1192 palabras\n"
          ]
        }
      ]
    },
    {
      "cell_type": "markdown",
      "source": [
        "Ahora pasamos al entrenamiento del modelo:"
      ],
      "metadata": {
        "id": "XRV8yMQNc600"
      }
    },
    {
      "cell_type": "code",
      "source": [
        "t = time()\n",
        "\n",
        "w2v_model.train(sent, total_examples=w2v_model.corpus_count, epochs=30, report_delay=1)\n",
        "\n",
        "\n",
        "print('Time to train the model: {} mins'.format(round((time() - t) / 60, 2)))"
      ],
      "metadata": {
        "colab": {
          "base_uri": "https://localhost:8080/"
        },
        "id": "wM-O3Qtwd6-v",
        "outputId": "d9543827-c05a-4c18-eb91-dcc616b21823"
      },
      "execution_count": 18,
      "outputs": [
        {
          "output_type": "stream",
          "name": "stdout",
          "text": [
            "Time to train the model: 0.13 mins\n"
          ]
        }
      ]
    },
    {
      "cell_type": "markdown",
      "source": [
        "Guardamos el modelo para no tener que repetir el proceso"
      ],
      "metadata": {
        "id": "7QJum7aBeLUf"
      }
    },
    {
      "cell_type": "code",
      "source": [
        "w2v_model.save('./w2v_model.pkl')"
      ],
      "metadata": {
        "id": "nte7VOspeR44"
      },
      "execution_count": 19,
      "outputs": []
    },
    {
      "cell_type": "markdown",
      "source": [
        "## 3.5 Resultados"
      ],
      "metadata": {
        "id": "ey0MIA2zepXG"
      }
    },
    {
      "cell_type": "code",
      "source": [
        "w2v_model.wv.most_similar(positive=[\"problem\"])"
      ],
      "metadata": {
        "colab": {
          "base_uri": "https://localhost:8080/"
        },
        "id": "cI1mb309eu_5",
        "outputId": "a954562c-3ece-4f59-8667-d283d17c7561"
      },
      "execution_count": 20,
      "outputs": [
        {
          "output_type": "execute_result",
          "data": {
            "text/plain": [
              "[('day', 0.9870168566703796),\n",
              " ('uninstalle', 0.9866459369659424),\n",
              " ('expire', 0.9855982661247253),\n",
              " ('symantec', 0.98527991771698),\n",
              " ('activate', 0.9837260246276855),\n",
              " ('try', 0.9811967015266418),\n",
              " ('fix', 0.9781951308250427),\n",
              " ('subscription', 0.9754472374916077),\n",
              " ('issue', 0.9743232131004333),\n",
              " ('refuse', 0.9722554683685303)]"
            ]
          },
          "metadata": {},
          "execution_count": 20
        }
      ]
    },
    {
      "cell_type": "code",
      "source": [
        "w2v_model.wv.most_similar(positive=[\"easy\"])"
      ],
      "metadata": {
        "colab": {
          "base_uri": "https://localhost:8080/"
        },
        "id": "ePu7YqCOe2sl",
        "outputId": "46d5a992-b5c7-4acb-aacb-105da708eb78"
      },
      "execution_count": 21,
      "outputs": [
        {
          "output_type": "execute_result",
          "data": {
            "text/plain": [
              "[('simple', 0.9794613122940063),\n",
              " ('compare', 0.974925696849823),\n",
              " ('walk', 0.9724963903427124),\n",
              " ('basic', 0.9724584817886353),\n",
              " ('relatively', 0.9694530963897705),\n",
              " ('complicated', 0.969377875328064),\n",
              " ('fairly', 0.9691552519798279),\n",
              " ('probably', 0.9687367677688599),\n",
              " ('reasonable', 0.9683136343955994),\n",
              " ('explanation', 0.9682489633560181)]"
            ]
          },
          "metadata": {},
          "execution_count": 21
        }
      ]
    },
    {
      "cell_type": "code",
      "source": [
        "w2v_model.wv.most_similar(positive=[\"window\"])"
      ],
      "metadata": {
        "colab": {
          "base_uri": "https://localhost:8080/"
        },
        "id": "JuBvbxLZfD2m",
        "outputId": "4cacdbfa-89f3-42a7-cc08-942667cd25fd"
      },
      "execution_count": 22,
      "outputs": [
        {
          "output_type": "execute_result",
          "data": {
            "text/plain": [
              "[('vista', 0.988775372505188),\n",
              " ('system', 0.9851120114326477),\n",
              " ('run', 0.9801815152168274),\n",
              " ('xp', 0.9787666201591492),\n",
              " ('operating', 0.9758148789405823),\n",
              " ('laptop', 0.9733458161354065),\n",
              " ('windows', 0.9687224626541138),\n",
              " ('machine', 0.9684560894966125),\n",
              " ('os', 0.9658236503601074),\n",
              " ('boot', 0.9649746417999268)]"
            ]
          },
          "metadata": {},
          "execution_count": 22
        }
      ]
    },
    {
      "cell_type": "code",
      "source": [
        "w2v_model.wv.similarity('os', 'window')"
      ],
      "metadata": {
        "colab": {
          "base_uri": "https://localhost:8080/"
        },
        "id": "mNU6UYxLfUjH",
        "outputId": "07cbc174-72f3-4ead-80be-a1469527cdba"
      },
      "execution_count": 23,
      "outputs": [
        {
          "output_type": "execute_result",
          "data": {
            "text/plain": [
              "0.96582365"
            ]
          },
          "metadata": {},
          "execution_count": 23
        }
      ]
    },
    {
      "cell_type": "code",
      "source": [
        "w2v_model.wv.similarity('complicated', 'bad')"
      ],
      "metadata": {
        "colab": {
          "base_uri": "https://localhost:8080/"
        },
        "id": "DR02YDY-fbYJ",
        "outputId": "a9e16d87-5ea5-46cf-95e2-0ae84cace2a5"
      },
      "execution_count": 24,
      "outputs": [
        {
          "output_type": "execute_result",
          "data": {
            "text/plain": [
              "0.90523523"
            ]
          },
          "metadata": {},
          "execution_count": 24
        }
      ]
    },
    {
      "cell_type": "code",
      "source": [
        "w2v_model.wv.similarity('easy', 'problem')"
      ],
      "metadata": {
        "colab": {
          "base_uri": "https://localhost:8080/"
        },
        "id": "VNGCwYiRh5FG",
        "outputId": "14ec6a8c-0413-464e-eae4-8e0793bcf4f7"
      },
      "execution_count": 27,
      "outputs": [
        {
          "output_type": "execute_result",
          "data": {
            "text/plain": [
              "0.7205008"
            ]
          },
          "metadata": {},
          "execution_count": 27
        }
      ]
    },
    {
      "cell_type": "markdown",
      "source": [
        "## 3.6 Visualizacion"
      ],
      "metadata": {
        "id": "q58oG-_FjAWw"
      }
    },
    {
      "cell_type": "markdown",
      "source": [
        "Pasamos a la visualizacion, para ello vamos a crear clusteres para 4 palabras las cuales seran problem, easy, window y run"
      ],
      "metadata": {
        "id": "LXzIMCpmg-U6"
      }
    },
    {
      "cell_type": "code",
      "source": [
        "keys = ['problem','easy','window', 'os']\n",
        "\n",
        "embedding_clusters = []\n",
        "word_clusters = []\n",
        "for word in keys:\n",
        "    embeddings = []\n",
        "    words = []\n",
        "    for similar_word, _ in w2v_model.wv.most_similar(word, topn=10):\n",
        "        words.append(similar_word)\n",
        "        embeddings.append(w2v_model.wv[similar_word])\n",
        "    embedding_clusters.append(embeddings)\n",
        "    word_clusters.append(words)"
      ],
      "metadata": {
        "id": "FhNYXWvWg94n"
      },
      "execution_count": 34,
      "outputs": []
    },
    {
      "cell_type": "code",
      "source": [
        "print(word_clusters)"
      ],
      "metadata": {
        "colab": {
          "base_uri": "https://localhost:8080/"
        },
        "id": "S2HT4LIeifIh",
        "outputId": "ba52a4f8-387f-4027-8b2c-bf39d76ed3a2"
      },
      "execution_count": 35,
      "outputs": [
        {
          "output_type": "stream",
          "name": "stdout",
          "text": [
            "[['day', 'uninstalle', 'expire', 'symantec', 'activate', 'try', 'fix', 'subscription', 'issue', 'refuse'], ['simple', 'compare', 'walk', 'basic', 'relatively', 'complicated', 'fairly', 'probably', 'reasonable', 'explanation'], ['vista', 'system', 'run', 'xp', 'operating', 'laptop', 'windows', 'machine', 'os', 'boot'], ['win', 'windows', 'linux', 'operating', 'dell', 'core', 'desktop', 'vista', 'macbook', 'gig']]\n"
          ]
        }
      ]
    },
    {
      "cell_type": "markdown",
      "source": [
        "Reducimos dimensionalidad a 2D para poder representar:"
      ],
      "metadata": {
        "id": "SlpxxTCwio3e"
      }
    },
    {
      "cell_type": "code",
      "source": [
        "tsne_model_2d = TSNE(perplexity=15, n_components=2, init='pca', n_iter=3500, random_state=32)"
      ],
      "metadata": {
        "id": "qntRL5U-il9V"
      },
      "execution_count": 36,
      "outputs": []
    },
    {
      "cell_type": "code",
      "source": [
        "embedding_clusters = np.array(embedding_clusters)\n",
        "n, m, k = embedding_clusters.shape"
      ],
      "metadata": {
        "id": "BgLEh5Jqi0Nz"
      },
      "execution_count": 37,
      "outputs": []
    },
    {
      "cell_type": "code",
      "source": [
        "embeddings_2d = np.array(tsne_model_2d.fit_transform(embedding_clusters.reshape(n * m, k))).reshape(n, m, 2)"
      ],
      "metadata": {
        "id": "PayXb7m2i3M8"
      },
      "execution_count": 38,
      "outputs": []
    },
    {
      "cell_type": "markdown",
      "source": [
        "Representamos:"
      ],
      "metadata": {
        "id": "NUHLaONijIO8"
      }
    },
    {
      "cell_type": "code",
      "source": [
        "import matplotlib.pyplot as plt\n",
        "import matplotlib.cm as cm\n",
        "import numpy as np\n",
        "%matplotlib inline\n",
        "\n",
        "\n",
        "def tsne_plot_similar_words(labels, embedding_clusters, word_clusters, a=0.7):\n",
        "    plt.figure(figsize=(16, 9))\n",
        "    colors = cm.rainbow(np.linspace(0, 1, len(labels)))\n",
        "    for label, embeddings, words, color in zip(labels, embedding_clusters, word_clusters, colors):\n",
        "        x = embeddings[:,0]\n",
        "        y = embeddings[:,1]\n",
        "        plt.scatter(x, y, c=[color], alpha=a, label=label)\n",
        "        for i, word in enumerate(words):\n",
        "            plt.annotate(word, alpha=0.5, xy=(x[i], y[i]), xytext=(5, 2),\n",
        "                         textcoords='offset points', ha='right', va='bottom', size=8)\n",
        "    plt.legend(loc=4)\n",
        "    plt.grid(True)\n",
        "    plt.title('Representación en 2D de los embeddings de algunos clusters de palabras')\n",
        "    # plt.savefig(\"f/г.png\", format='png', dpi=150, bbox_inches='tight')\n",
        "    plt.show()\n",
        "\n",
        "\n",
        "tsne_plot_similar_words(keys, embeddings_2d, word_clusters)"
      ],
      "metadata": {
        "colab": {
          "base_uri": "https://localhost:8080/",
          "height": 571
        },
        "id": "mPP-p-KtjPd5",
        "outputId": "9395d46c-02f2-4fc9-87d2-0bc85c7bfd38"
      },
      "execution_count": 39,
      "outputs": [
        {
          "output_type": "display_data",
          "data": {
            "text/plain": [
              "<Figure size 1600x900 with 1 Axes>"
            ],
            "image/png": "[encoded data removed]"
          },
          "metadata": {}
        }
      ]
    },
    {
      "cell_type": "markdown",
      "source": [
        "## 3.7 Conclusiones"
      ],
      "metadata": {
        "id": "n2hHgU9gf31u"
      }
    },
    {
      "cell_type": "markdown",
      "source": [
        "En el apartado 3.5 podemos observar como palabras similares tienen alto porcentaje de similaritud, como os y window(ya que window es un os) y se obtiene un 97%. Por el contrario palabras no similares como easy y problem( porque rara vez vez una persona que tiene un problema lo ve facil) tiene un porcentaje de similaritud bajo un 70%.\n",
        "En el apartado 3.6 podemos observar graficamente los clusteres de palabras y como palabras similares como son os y window sus clusteres estan unidos y como clusteres de palabras no similares como easy y problem estan separados.\n",
        "Como conclusion final podemos observar que nuestro modelo funciona correctamente y que hace lo esperado."
      ],
      "metadata": {
        "id": "BpS5HHScgRX8"
      }
    }
  ]
}